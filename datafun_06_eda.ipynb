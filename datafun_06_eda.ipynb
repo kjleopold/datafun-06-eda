{
 "cells": [
  {
   "cell_type": "markdown",
   "id": "78847eff-4ec5-4242-bd5e-f9984a11d6c4",
   "metadata": {},
   "source": [
    "# Exploratory Data Analysis (EDA) Project  \n",
    "***\n",
    "Author: Kellie Leopold  \n",
    "Purpose: Create a custom exploratory data analysis (EDA) project using GitHub, Git, Jupyter, pandas, Seaborn and other popular data analytics tools.  \n",
    "Date: February 5th, 2025  "
   ]
  }
 ],
 "metadata": {
  "kernelspec": {
   "display_name": "Python 3 (ipykernel)",
   "language": "python",
   "name": "python3"
  },
  "language_info": {
   "codemirror_mode": {
    "name": "ipython",
    "version": 3
   },
   "file_extension": ".py",
   "mimetype": "text/x-python",
   "name": "python",
   "nbconvert_exporter": "python",
   "pygments_lexer": "ipython3",
   "version": "3.13.1"
  }
 },
 "nbformat": 4,
 "nbformat_minor": 5
}
