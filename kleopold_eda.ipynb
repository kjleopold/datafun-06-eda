{
 "cells": [
  {
   "cell_type": "markdown",
   "id": "78847eff-4ec5-4242-bd5e-f9984a11d6c4",
   "metadata": {},
   "source": [
    "# Level Up: Exploring the World of Video Game Sales\n",
    "***\n",
    "Author: Kellie Leopold    \n",
    "Date: February 18th, 2025  \n",
    "\n",
    "#### *Purpose*\n",
    "Create an exploratory data analysis (EDA) project using GitHub, Git, Jupyter, pandas, Seaborn and other popular data analytics tools using data for video game sales in 2024. \n",
    "\n",
    "### *Introduction*\n",
    "Welcome to the ultimate “press start” moment of our data analysis adventure! In this exploration, we’re diving deep into the world of video game sales, where the numbers are as varied as the genres of games themselves. From Mario’s iconic leaps to the Fortnite dance craze, the gaming industry has seen its fair share of highs, lows, and unexpected plot twists.\n",
    "\n",
    "But behind every sold-out console and record-breaking title, there’s a story to be told — and it’s all about the data. How do game sales measure up across different platforms, genres, and decades? Which titles made players’ thumbs sore and wallets happy? And can we predict which future release might break all the records?\n",
    "\n",
    "Grab your controller (or, you know, a cup of coffee), because we’re about to uncover the truth behind the numbers. Spoiler alert: The data doesn’t lie, but it does make for some pretty interesting analysis!\n",
    "\n",
    "***"
   ]
  },
  {
   "cell_type": "markdown",
   "id": "8b0a3c2d",
   "metadata": {},
   "source": [
    "#### Imports\n",
    "* pandas\n",
    "* pathlib\n",
    "* Seaborn\n",
    "* matplotlib.pyplot"
   ]
  },
  {
   "cell_type": "code",
   "execution_count": 45,
   "id": "555329f1",
   "metadata": {},
   "outputs": [],
   "source": [
    "import pandas as pd\n",
    "import pathlib\n",
    "import seaborn as sns\n",
    "import matplotlib.pyplot as plt"
   ]
  },
  {
   "cell_type": "markdown",
   "id": "c92cfca2",
   "metadata": {},
   "source": [
    "#### 1. Load the Data\n",
    "* Load the CSV dataset downloaded from Kaggle.\n",
    "* Inspect the first few lines of data to ensure they loaded correctly."
   ]
  },
  {
   "cell_type": "code",
   "execution_count": 46,
   "id": "eea316d2",
   "metadata": {},
   "outputs": [
    {
     "name": "stdout",
     "output_type": "stream",
     "text": [
      "                         title console    genre       publisher  \\\n",
      "0           Grand Theft Auto V     PS3   Action  Rockstar Games   \n",
      "1           Grand Theft Auto V     PS4   Action  Rockstar Games   \n",
      "2  Grand Theft Auto: Vice City     PS2   Action  Rockstar Games   \n",
      "3           Grand Theft Auto V    X360   Action  Rockstar Games   \n",
      "4    Call of Duty: Black Ops 3     PS4  Shooter      Activision   \n",
      "\n",
      "        developer  critic_score  total_sales  north_amer_sales  jpn_sales  \\\n",
      "0  Rockstar North           9.4        20.32              6.37       0.99   \n",
      "1  Rockstar North           9.7        19.39              6.06       0.60   \n",
      "2  Rockstar North           9.6        16.15              8.41       0.47   \n",
      "3  Rockstar North           NaN        15.86              9.06       0.06   \n",
      "4        Treyarch           8.1        15.09              6.18       0.41   \n",
      "\n",
      "   euro_africa_sales  other_sales release_date last_update  \n",
      "0               9.85         3.12    9/17/2013         NaN  \n",
      "1               9.71         3.02   11/18/2014    1/3/2018  \n",
      "2               5.49         1.78   10/28/2002         NaN  \n",
      "3               5.33         1.42    9/17/2013         NaN  \n",
      "4               6.05         2.44    11/6/2015   1/14/2018  \n"
     ]
    }
   ],
   "source": [
    "# Define the path to the CSV file in the root folder (assuming the notebook is in the same directory)\n",
    "csv_file_path = pathlib.Path.cwd() / 'vgchartz-2024.csv'\n",
    "\n",
    "# Read the CSV file into a DataFrame\n",
    "df = pd.read_csv(csv_file_path)\n",
    "\n",
    "# Display the first few rows of the DataFrame\n",
    "print(df.head())"
   ]
  },
  {
   "cell_type": "markdown",
   "id": "a9f389b7",
   "metadata": {},
   "source": [
    "#### 2. Initial Data Inspection\n",
    "* Display the first 10 rows of the DataFrame.\n",
    "* Check the shape.\n",
    "* Display the data types of each column."
   ]
  },
  {
   "cell_type": "code",
   "execution_count": 47,
   "id": "2c9dacce",
   "metadata": {},
   "outputs": [
    {
     "name": "stdout",
     "output_type": "stream",
     "text": [
      "                            title console             genre       publisher  \\\n",
      "0              Grand Theft Auto V     PS3            Action  Rockstar Games   \n",
      "1              Grand Theft Auto V     PS4            Action  Rockstar Games   \n",
      "2     Grand Theft Auto: Vice City     PS2            Action  Rockstar Games   \n",
      "3              Grand Theft Auto V    X360            Action  Rockstar Games   \n",
      "4       Call of Duty: Black Ops 3     PS4           Shooter      Activision   \n",
      "5  Call of Duty: Modern Warfare 3    X360           Shooter      Activision   \n",
      "6         Call of Duty: Black Ops    X360           Shooter      Activision   \n",
      "7           Red Dead Redemption 2     PS4  Action-Adventure  Rockstar Games   \n",
      "8      Call of Duty: Black Ops II    X360           Shooter      Activision   \n",
      "9      Call of Duty: Black Ops II     PS3           Shooter      Activision   \n",
      "\n",
      "        developer  critic_score  total_sales  north_amer_sales  jpn_sales  \\\n",
      "0  Rockstar North           9.4        20.32              6.37       0.99   \n",
      "1  Rockstar North           9.7        19.39              6.06       0.60   \n",
      "2  Rockstar North           9.6        16.15              8.41       0.47   \n",
      "3  Rockstar North           NaN        15.86              9.06       0.06   \n",
      "4        Treyarch           8.1        15.09              6.18       0.41   \n",
      "5   Infinity Ward           8.7        14.82              9.07       0.13   \n",
      "6        Treyarch           8.8        14.74              9.76       0.11   \n",
      "7  Rockstar Games           9.8        13.94              5.26       0.21   \n",
      "8        Treyarch           8.4        13.86              8.27       0.07   \n",
      "9        Treyarch           8.0        13.80              4.99       0.65   \n",
      "\n",
      "   euro_africa_sales  other_sales release_date last_update  \n",
      "0               9.85         3.12    9/17/2013         NaN  \n",
      "1               9.71         3.02   11/18/2014    1/3/2018  \n",
      "2               5.49         1.78   10/28/2002         NaN  \n",
      "3               5.33         1.42    9/17/2013         NaN  \n",
      "4               6.05         2.44    11/6/2015   1/14/2018  \n",
      "5               4.29         1.33    11/8/2011         NaN  \n",
      "6               3.73         1.14    11/9/2010         NaN  \n",
      "7               6.21         2.26   10/26/2018   11/2/2018  \n",
      "8               4.32         1.20   11/13/2012    4/7/2018  \n",
      "9               5.88         2.28   11/13/2012    4/7/2018  \n",
      "(64016, 13)\n",
      "title                 object\n",
      "console               object\n",
      "genre                 object\n",
      "publisher             object\n",
      "developer             object\n",
      "critic_score         float64\n",
      "total_sales          float64\n",
      "north_amer_sales     float64\n",
      "jpn_sales            float64\n",
      "euro_africa_sales    float64\n",
      "other_sales          float64\n",
      "release_date          object\n",
      "last_update           object\n",
      "dtype: object\n"
     ]
    }
   ],
   "source": [
    "# Display the first few rows of the DataFrame\n",
    "print(df.head(10)) # Prints the first 10 rows of data\n",
    "\n",
    "# Display the data shape\n",
    "(print(df.shape)) # Prints (rows, columns)\n",
    "\n",
    "# Display the data type\n",
    "print(df.dtypes) # Prints data types of each column"
   ]
  },
  {
   "cell_type": "markdown",
   "id": "1d2c4f55",
   "metadata": {},
   "source": [
    "#### 3. Initial Descriptive Statistics\n",
    "* Display summary statistics for each column"
   ]
  },
  {
   "cell_type": "code",
   "execution_count": 48,
   "id": "45bbd067",
   "metadata": {},
   "outputs": [
    {
     "name": "stdout",
     "output_type": "stream",
     "text": [
      "       critic_score   total_sales  north_amer_sales    jpn_sales  \\\n",
      "count   6678.000000  18922.000000      12637.000000  6726.000000   \n",
      "mean       7.220440      0.349113          0.264740     0.102281   \n",
      "std        1.457066      0.807462          0.494787     0.168811   \n",
      "min        1.000000      0.000000          0.000000     0.000000   \n",
      "25%        6.400000      0.030000          0.050000     0.020000   \n",
      "50%        7.500000      0.120000          0.120000     0.040000   \n",
      "75%        8.300000      0.340000          0.280000     0.120000   \n",
      "max       10.000000     20.320000          9.760000     2.130000   \n",
      "\n",
      "       euro_africa_sales   other_sales  \n",
      "count       12824.000000  15128.000000  \n",
      "mean            0.149472      0.043041  \n",
      "std             0.392653      0.126643  \n",
      "min             0.000000      0.000000  \n",
      "25%             0.010000      0.000000  \n",
      "50%             0.040000      0.010000  \n",
      "75%             0.140000      0.030000  \n",
      "max             9.850000      3.120000  \n"
     ]
    }
   ],
   "source": [
    "print(df.describe())"
   ]
  }
 ],
 "metadata": {
  "kernelspec": {
   "display_name": ".venv",
   "language": "python",
   "name": "python3"
  },
  "language_info": {
   "codemirror_mode": {
    "name": "ipython",
    "version": 3
   },
   "file_extension": ".py",
   "mimetype": "text/x-python",
   "name": "python",
   "nbconvert_exporter": "python",
   "pygments_lexer": "ipython3",
   "version": "3.13.1"
  }
 },
 "nbformat": 4,
 "nbformat_minor": 5
}
